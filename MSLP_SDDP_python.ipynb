{
 "cells": [
  {
   "cell_type": "code",
   "execution_count": null,
   "metadata": {},
   "outputs": [],
   "source": [
    "import gurobipy as gp;\n",
    "from gurobipy import GRB;"
   ]
  },
  {
   "cell_type": "code",
   "execution_count": null,
   "metadata": {},
   "outputs": [],
   "source": [
    "# Input data\n",
    "Water=[[100, 100, 150],\n",
    "       [-75, -75, -50],\n",
    "       [200, 200, 250],\n",
    "       [250, 250, 400]];\n",
    "Prob = [0.4, 0.3, 0.2, 0.1];\n",
    "w0 = -150;\n",
    "lb = -250;\n",
    "floodCost = 20000;\n",
    "importCost = 10000;\n",
    "releaseIncome = 6000;\n",
    "T = 3;\n",
    "numScens = len(Prob);\n",
    "\n",
    "meanWater = [0.0]*T; # Careful - this technique doesn't generalize to multidimensional arrays or lists of lists\n",
    "\n",
    "for t in range(T):\n",
    "    for k in range(numScens):\n",
    "        meanWater[t] = meanWater[t]+Water[k][t]*Prob[k];\n"
   ]
  },
  {
   "cell_type": "code",
   "execution_count": null,
   "metadata": {},
   "outputs": [],
   "source": [
    "m = gp.Model(\"DAM_MVP\");\n",
    "# Set the sense for the objective: we'd like to maximize\n",
    "m.modelSense = GRB.MAXIMIZE; # this is to maximize the total profit"
   ]
  },
  {
   "cell_type": "code",
   "execution_count": null,
   "metadata": {},
   "outputs": [],
   "source": [
    "# Amount of water to release each month\n",
    "x = {};\n",
    "for i in range(T+1):\n",
    "    x[i] = m.addVar(vtype=GRB.CONTINUOUS, lb = 0, ub = GRB.INFINITY, obj = releaseIncome);\n",
    "\n",
    "# water level of each month after flooding, importing and releasing water\n",
    "wl = {};\n",
    "for i in range(T+1):\n",
    "    wl[i] = m.addVar(vtype=GRB.CONTINUOUS, lb = -GRB.INFINITY, ub = 0, obj = 0);\n",
    "    \n",
    "# Amount of water to import each month\n",
    "y = {};\n",
    "for i in range(T+1):\n",
    "    y[i] = m.addVar(vtype=GRB.CONTINUOUS, lb = 0, ub = GRB.INFINITY, obj = -importCost);\n",
    "    \n",
    "# Amount of water overflow each month\n",
    "z = {};\n",
    "for i in range(T+1):\n",
    "    z[i] = m.addVar(vtype=GRB.CONTINUOUS, lb = 0, ub = GRB.INFINITY, obj = -floodCost);\n",
    "\n"
   ]
  },
  {
   "cell_type": "code",
   "execution_count": null,
   "metadata": {},
   "outputs": [],
   "source": [
    "# Maintain the water level\n",
    "for i in range(T+1):\n",
    "    if i == 0:\n",
    "        m.addConstr(wl[i]==w0+y[i]-x[i]-z[i]);\n",
    "        m.addConstr(w0+y[i]-x[i]>=lb);\n",
    "    else:\n",
    "        m.addConstr(wl[i]==wl[i-1]+y[i]-x[i]+meanWater[i-1]-z[i]);\n",
    "        m.addConstr(wl[i-1]+y[i]-x[i]>=lb);\n",
    "    \n",
    "# Finish adding all variables and constraints, do an update to make sure things are up to date.\n",
    "m.update();\n",
    "m.setParam(\"OutputFlag\", 0); # disable output information unless you want to take a look at the solution process"
   ]
  },
  {
   "cell_type": "code",
   "execution_count": null,
   "metadata": {},
   "outputs": [],
   "source": [
    "m.optimize();\n",
    "if m.status == GRB.OPTIMAL:\n",
    "    print('\\nOptimal Obj Value: %g' % m.objVal);\n",
    "    for i in range(T+1):\n",
    "        print('\\nTime[%s]:' % i);\n",
    "        print('x = %g, y = %g, z = %g, wl = %g' % (m.getAttr('x', x)[i],m.getAttr('x', y)[i],m.getAttr('x', z)[i],m.getAttr('x', wl)[i]));\n",
    "else:\n",
    "    print('No solution');"
   ]
  },
  {
   "cell_type": "markdown",
   "metadata": {},
   "source": [
    "We now solve the multi-stage SP model, create multiple copies of scenario-based variables, one copy per scenario."
   ]
  },
  {
   "cell_type": "code",
   "execution_count": null,
   "metadata": {},
   "outputs": [],
   "source": [
    "#########################################################\n",
    "# Now prepare the scenario data\n",
    "totalScens = pow(numScens,T);\n",
    "scenProb = [0.0]*totalScens;\n",
    "scenData = [[0 for j in range(T)] for i in range(totalScens)];\n",
    "\n",
    "# A lazy way, don't mimic!!\n",
    "for i1 in range(numScens):\n",
    "    for i2 in range(numScens):\n",
    "        for i3 in range(numScens):\n",
    "            scenProb[i1*pow(numScens,2)+i2*numScens+i3] = Prob[i1]*Prob[i2]*Prob[i3];\n",
    "            scenData[i1*pow(numScens,2)+i2*numScens+i3][0] = i1;\n",
    "            scenData[i1*pow(numScens,2)+i2*numScens+i3][1] = i2;\n",
    "            scenData[i1*pow(numScens,2)+i2*numScens+i3][2] = i3;\n"
   ]
  },
  {
   "cell_type": "code",
   "execution_count": null,
   "metadata": {},
   "outputs": [],
   "source": [
    "# Now define variables in the Multistage SP model\n",
    "m_multi= gp.Model(\"DAM_Multi\");\n",
    "m_multi.modelSense = GRB.MAXIMIZE; # this is to maximize the total profit\n",
    "# Amount of water to release each month\n",
    "x_scen = {};\n",
    "for k in range(totalScens):\n",
    "    x_scen[k] = {};\n",
    "    for i in range(T+1):\n",
    "        x_scen[k][i] = m_multi.addVar(vtype=GRB.CONTINUOUS, lb = 0, ub = GRB.INFINITY, obj=scenProb[k]*releaseIncome);\n",
    "        \n",
    "# water level of each month after flooding, importing and releasing water\n",
    "wl_scen = {};\n",
    "for k in range(totalScens):\n",
    "    wl_scen[k] = {};\n",
    "    for i in range(T+1):\n",
    "        wl_scen[k][i] = m_multi.addVar(vtype=GRB.CONTINUOUS, lb = -GRB.INFINITY, ub = 0, obj=0);\n",
    "        \n",
    "# Amount of water to import each month\n",
    "y_scen = {};\n",
    "for k in range(totalScens):\n",
    "    y_scen[k] = {};\n",
    "    for i in range(T+1):\n",
    "        y_scen[k][i] = m_multi.addVar(vtype=GRB.CONTINUOUS, lb = 0, ub = GRB.INFINITY, obj=scenProb[k]*(-importCost));\n",
    "        \n",
    "# Amount of water overflow each month\n",
    "z_scen = {};\n",
    "for k in range(totalScens):\n",
    "    z_scen[k] = {};\n",
    "    for i in range(T+1):\n",
    "        z_scen[k][i] = m_multi.addVar(vtype=GRB.CONTINUOUS, lb = 0, ub = GRB.INFINITY, obj=scenProb[k]*(-floodCost));"
   ]
  },
  {
   "cell_type": "code",
   "execution_count": null,
   "metadata": {},
   "outputs": [],
   "source": [
    "# Maintain the water level\n",
    "for k in range(totalScens):\n",
    "    for i in range(T+1):\n",
    "        if i == 0:\n",
    "            m_multi.addConstr(wl_scen[k][i]==w0+y_scen[k][i]-x_scen[k][i]-z_scen[k][i]);\n",
    "            m_multi.addConstr(w0+y_scen[k][i]-x_scen[k][i]>=lb);\n",
    "        else:\n",
    "            m_multi.addConstr(wl_scen[k][i]==wl_scen[k][i-1]+y_scen[k][i]-x_scen[k][i]+Water[scenData[k][i-1]][i-1]-z_scen[k][i]);\n",
    "            m_multi.addConstr(wl_scen[k][i-1]+y_scen[k][i]-x_scen[k][i]>=lb);"
   ]
  },
  {
   "cell_type": "code",
   "execution_count": null,
   "metadata": {},
   "outputs": [],
   "source": [
    "# Now, define the Nonanticipativity constraints, we define them stage by stage\n",
    "# WARNING: here I hardcode the problem for T = 3!!! Don't mimic! I am just lazy here\n",
    "# t = 1\n",
    "\n",
    "# All scenarios are identical at this point, so the decisions made should also be identical!\n",
    "for k in range(1,totalScens):\n",
    "    m_multi.addConstr(x_scen[k][0]==x_scen[0][0]);\n",
    "    m_multi.addConstr(y_scen[k][0]==y_scen[0][0]);\n",
    "    m_multi.addConstr(z_scen[k][0]==z_scen[0][0]);\n",
    "    m_multi.addConstr(wl_scen[k][0]==wl_scen[0][0]);\n",
    "\n",
    "# t = 2\n",
    "for tt in range(numScens):\n",
    "    # There are numScens NAC sets, now construct them one by one\n",
    "    # Initiate an empty array\n",
    "    NACindex = [];\n",
    "    # Now construct the NAC set\n",
    "    for s in range(totalScens):\n",
    "        if scenData[s][0] == tt:\n",
    "            NACindex.append(s);\n",
    "    s0 = NACindex[0];\n",
    "    for i in range(1,len(NACindex)):\n",
    "        s=NACindex[i];\n",
    "        m_multi.addConstr(x_scen[s][1]==x_scen[s0][1]);\n",
    "        m_multi.addConstr(y_scen[s][1]==y_scen[s0][1]);\n",
    "        m_multi.addConstr(wl_scen[s][1]==wl_scen[s0][1]);\n",
    "        m_multi.addConstr(z_scen[s][1]==z_scen[s0][1]);\n",
    "\n",
    "# t = 3\n",
    "for t1 in range(numScens):\n",
    "    for t2 in range(numScens):\n",
    "        # There are numScens^2 NAC sets\n",
    "        NACindex = [];\n",
    "        for s in range(totalScens):\n",
    "            if scenData[s][0]==t1 and scenData[s][1]==t2:\n",
    "                NACindex.append(s);\n",
    "        s0 = NACindex[0];\n",
    "        for i in range(1,len(NACindex)):\n",
    "            s=NACindex[i];\n",
    "            m_multi.addConstr(x_scen[s][2]==x_scen[s0][2]);\n",
    "            m_multi.addConstr(y_scen[s][2]==y_scen[s0][2]);\n",
    "            m_multi.addConstr(wl_scen[s][2]==wl_scen[s0][2]);\n",
    "            m_multi.addConstr(z_scen[s][2]==z_scen[s0][2]);\n",
    "\n",
    "# Finish adding all variables and constraints, do an update to make sure things are up to date.\n",
    "m_multi.update();\n",
    "m_multi.setParam(\"OutputFlag\", 0); # disable output information unless you want to take a look at the solution process"
   ]
  },
  {
   "cell_type": "code",
   "execution_count": null,
   "metadata": {},
   "outputs": [],
   "source": [
    "m_multi.optimize();\n",
    "if m_multi.status == GRB.OPTIMAL:\n",
    "    print('\\nOptimal Obj Value: %g' % m_multi.objVal);\n",
    "else:\n",
    "    print(\"Status = \", m_multi.status)\n",
    "    print('No solution');"
   ]
  },
  {
   "cell_type": "code",
   "execution_count": null,
   "metadata": {},
   "outputs": [],
   "source": []
  },
  {
   "cell_type": "code",
   "execution_count": null,
   "metadata": {},
   "outputs": [],
   "source": []
  }
 ],
 "metadata": {
  "kernelspec": {
   "display_name": "Python 3",
   "language": "python",
   "name": "python3"
  },
  "language_info": {
   "codemirror_mode": {
    "name": "ipython",
    "version": 3
   },
   "file_extension": ".py",
   "mimetype": "text/x-python",
   "name": "python",
   "nbconvert_exporter": "python",
   "pygments_lexer": "ipython3",
   "version": "3.8.5"
  }
 },
 "nbformat": 4,
 "nbformat_minor": 2
}
